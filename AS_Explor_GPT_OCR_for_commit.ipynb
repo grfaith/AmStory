{
 "cells": [
  {
   "cell_type": "code",
   "execution_count": null,
   "id": "95299d67",
   "metadata": {},
   "outputs": [],
   "source": [
    "#Imports\n",
    "import io\n",
    "import os\n",
    "import json\n",
    "import pandas as pd\n",
    "import numpy as np\n",
    "from concurrent.futures import ThreadPoolExecutor, as_completed\n",
    "from tqdm import tqdm\n",
    "import tqdm as tq\n",
    "import openai\n",
    "\n",
    "from openai import OpenAI\n",
    "OPENAI_API_KEY = '???'\n",
    "\n",
    "# Replace 'YOUR_OPENAI_API_KEY' with your actual API key\n",
    "client = OpenAI(\n",
    "    api_key=OPENAI_API_KEY,\n",
    "    organization='???'\n",
    ")\n"
   ]
  },
  {
   "cell_type": "code",
   "execution_count": null,
   "id": "ad877b19",
   "metadata": {},
   "outputs": [],
   "source": [
    "### Loading csv file into memory\n",
    "\n",
    "# Get the current working directory\n",
    "current_directory = os.getcwd()\n",
    "\n",
    "# File name\n",
    "file_name = \"kw_grouped_postprocess.csv\"\n",
    "\n",
    "# File path\n",
    "file_path = os.path.join(current_directory, file_name)\n",
    "\n",
    "# Check if the file exists\n",
    "if os.path.exists(file_path):\n",
    "    # Load the CSV file into a DataFrame\n",
    "    kw_hit_grouped_df = pd.read_csv(file_path)\n",
    "    print(\"File loaded successfully.\")\n",
    "    # Now you can work with the DataFrame 'df'\n",
    "else:\n",
    "    print(f\"Error: File '{file_name}' not found in the current directory.\")"
   ]
  },
  {
   "cell_type": "code",
   "execution_count": null,
   "id": "8b971734",
   "metadata": {},
   "outputs": [],
   "source": [
    "### This function sends raw text to GPT chat completion for cleanup.  Temperature set to 0.0 and max tokens = 2500\n",
    "\n",
    "def OCR_clean(text):\n",
    "    \"\"\"\n",
    "    Running text through GPT 3.5 for OCR cleanup.\n",
    "    \"\"\"\n",
    "    # Define the prompt for the OpenAI model\n",
    "    prompt = (f\" Clean up the supplied text string, focusing on correcting poor OCR and eliminating unwanted line breaks: '{text}'. \"\n",
    "              \"Return a text string with cleaned text.\")\n",
    "\n",
    "    # Call the OpenAI API using the new method\n",
    "    response = client.chat.completions.create(model=\"gpt-3.5-turbo\",\n",
    "    messages=[{\"role\": \"system\", \"content\": \"Clean up poorly scanned text.\"},\n",
    "              {\"role\": \"user\", \"content\": prompt}],\n",
    "    max_tokens=2500,\n",
    "    temperature=0.0)\n",
    "\n",
    "    # Extract text from the response\n",
    "    answer = response.choices[0].message.content.strip()\n",
    "\n",
    "    # print answer\n",
    "    # print (answer)\n",
    "\n",
    "    # input(\"Press Enter to continue...\")\n",
    "\n",
    "    return (answer)\n",
    "\n",
    "# Example usage:\n",
    "# text_input = \"The mission to explore Mars has captured the imagination of people globally.\"\n",
    "# result = exp_space(text_input)\n",
    "# print(result)"
   ]
  },
  {
   "cell_type": "code",
   "execution_count": null,
   "id": "3a9a21ca",
   "metadata": {},
   "outputs": [],
   "source": [
    "# Main Execution Loop\n",
    "\n",
    "# Function to process each row\n",
    "def process_row(article):\n",
    "    return OCR_clean(article)\n",
    "\n",
    "# Adding a new column 'GPT_clean' to the dataframe\n",
    "def parallel_ocr_clean(df, max_workers=5):\n",
    "    with ThreadPoolExecutor(max_workers=max_workers) as executor:\n",
    "        future_to_index = {executor.submit(process_row, row['article']): idx for idx, row in df.iterrows()}\n",
    "        \n",
    "        # Create a tqdm progress bar\n",
    "        with tqdm(total=len(df), desc=\"Processing\", unit=\"row\") as pbar:\n",
    "            for future in as_completed(future_to_index):\n",
    "                idx = future_to_index[future]\n",
    "                try:\n",
    "                    result = future.result()\n",
    "                    df.at[idx, 'GPT_clean'] = result\n",
    "                except Exception as e:\n",
    "                    df.at[idx, 'GPT_clean'] = None\n",
    "                    print(f\"Exception for index {idx}: {e}\")\n",
    "                pbar.update(1)  # Update the progress bar\n",
    "\n",
    "# Run the parallel processing\n",
    "parallel_ocr_clean(kw_hit_grouped_df)\n",
    "\n",
    "# Display the dataframe with the new column\n",
    "# print(kw_hit_grouped_df.info)\n",
    "\n",
    "print (\"Finished!  Don't forget to save to disk!\")"
   ]
  },
  {
   "cell_type": "code",
   "execution_count": null,
   "id": "47d08106",
   "metadata": {},
   "outputs": [],
   "source": [
    "print(kw_hit_grouped_df.info)"
   ]
  },
  {
   "cell_type": "code",
   "execution_count": null,
   "id": "dbe041da",
   "metadata": {},
   "outputs": [],
   "source": [
    "kw_hit_grouped_df.to_csv(\"AS_explor_cleaned.csv\", index = False)"
   ]
  }
 ],
 "metadata": {
  "kernelspec": {
   "display_name": "Python 3 (ipykernel)",
   "language": "python",
   "name": "python3"
  },
  "language_info": {
   "codemirror_mode": {
    "name": "ipython",
    "version": 3
   },
   "file_extension": ".py",
   "mimetype": "text/x-python",
   "name": "python",
   "nbconvert_exporter": "python",
   "pygments_lexer": "ipython3",
   "version": "3.11.7"
  }
 },
 "nbformat": 4,
 "nbformat_minor": 5
}
